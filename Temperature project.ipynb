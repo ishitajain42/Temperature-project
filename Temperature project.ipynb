{
 "cells": [
  {
   "cell_type": "code",
   "execution_count": 1,
   "id": "bbc42272",
   "metadata": {},
   "outputs": [],
   "source": [
    "#1. Represent the data in the given sheet into an appropriate NumPy array so\n",
    "#that you can perform the following actions on it.\n",
    "import numpy as np\n",
    "\n",
    "p=np.array([[[[11,8,6,12,7,9,8],[28,32,24,25,28,27,32]],        \n",
    "                 [[7,10,10,-13,8,14,9],[26,31,25,21,28,30,22]],\n",
    "                 [[9,6,13,8,6,6,13],[24,30,24,27,25,20,25]],\n",
    "                 [[13,13,13,6,15,7,9],[29,20,24,23,21,24,29]]],\n",
    " \n",
    "                [[[11,8,11,9,13,11,9],[24,24,24,31,20,23,32]],\n",
    "                 [[13,7,10,15,13,7,10],[29,29,24,25,28,32,28]],\n",
    "                 [[8,13,8,8,15,12,11],[30,27,28,21,27,31,25]],\n",
    "                 [[13,12,15,13,11,7,6],[29,26,30,26,22,32,27]]],\n",
    "\n",
    "                [[[5,3,4,5,3,3,21],[19,18,18,18,22,2,5]],\n",
    "                 [[5,6,6,4,7,7,21],[20,18,19,20,20,7,2]],\n",
    "                 [[7,6,5,7,7,5,19],[20,20,22,18,20,4,3]],\n",
    "                 [[8,7,6,2,6,4,18],[20,19,22,18,19,4,7]]],\n",
    "                \n",
    "                [[[7,10,-10,11,11,11,22],[21,20,19,18,20,71,12]],\n",
    "                 [[10,7,8,7,10,7,19],[21,22,21,18,20,7,8]],\n",
    "                 [[10,10,12,7,7,7,21],[20,22,22,21,21,12,12]],\n",
    "                 [[7,7,8,10,11,12,18],[21,22,21,18,18,10,7]]]])"
   ]
  },
  {
   "cell_type": "code",
   "execution_count": 2,
   "id": "64e3e882",
   "metadata": {},
   "outputs": [
    {
     "data": {
      "text/plain": [
       "(4, 4, 2, 7)"
      ]
     },
     "execution_count": 2,
     "metadata": {},
     "output_type": "execute_result"
    }
   ],
   "source": [
    "#2.Write the dimensions and shape of the NumPy array that you have created.\n",
    "p.shape"
   ]
  },
  {
   "cell_type": "code",
   "execution_count": 3,
   "id": "99ee32d4",
   "metadata": {},
   "outputs": [
    {
     "name": "stdout",
     "output_type": "stream",
     "text": [
      "[[11  8  6 12  7  9  8]\n",
      " [28 32 24 25 28 27 32]]\n",
      "[[11  8 11  9 13 11  9]\n",
      " [24 24 24 31 20 23 32]]\n",
      "[[ 5  3  4  5  3  3 21]\n",
      " [19 18 18 18 22  2  5]]\n",
      "[[  7  10 -10  11  11  11  22]\n",
      " [ 21  20  19  18  20  71  12]]\n"
     ]
    }
   ],
   "source": [
    "for i in range(4):\n",
    "     print(p[i,0])"
   ]
  },
  {
   "cell_type": "code",
   "execution_count": 4,
   "id": "4a5e881f",
   "metadata": {},
   "outputs": [
    {
     "data": {
      "text/plain": [
       "array([[11,  8,  6, 12,  7],\n",
       "       [28, 32, 24, 25, 28]])"
      ]
     },
     "execution_count": 4,
     "metadata": {},
     "output_type": "execute_result"
    }
   ],
   "source": [
    "#3.Print the daily temperatures for the first week of each month\n",
    "p[0,0,:,:5]"
   ]
  },
  {
   "cell_type": "code",
   "execution_count": 5,
   "id": "dd86959b",
   "metadata": {},
   "outputs": [
    {
     "data": {
      "text/plain": [
       "array([[[ 8, 32],\n",
       "        [10, 31],\n",
       "        [ 6, 30],\n",
       "        [13, 20]],\n",
       "\n",
       "       [[ 8, 24],\n",
       "        [ 7, 29],\n",
       "        [13, 27],\n",
       "        [12, 26]],\n",
       "\n",
       "       [[ 3, 18],\n",
       "        [ 6, 18],\n",
       "        [ 6, 20],\n",
       "        [ 7, 19]],\n",
       "\n",
       "       [[10, 20],\n",
       "        [ 7, 22],\n",
       "        [10, 22],\n",
       "        [ 7, 22]]])"
      ]
     },
     "execution_count": 5,
     "metadata": {},
     "output_type": "execute_result"
    }
   ],
   "source": [
    "#4. Print the temperatures for Tuesday of each month\n",
    "p[:,:,:,1]"
   ]
  },
  {
   "cell_type": "code",
   "execution_count": 6,
   "id": "ed05c41e",
   "metadata": {},
   "outputs": [
    {
     "data": {
      "text/plain": [
       "array([[31, 29, 30, 30],\n",
       "       [21, 22, 22, 22]])"
      ]
     },
     "execution_count": 6,
     "metadata": {},
     "output_type": "execute_result"
    }
   ],
   "source": [
    "#5. Print only the maximum temperature for all the weekdays of Dec and Feb.\n",
    "np.amax(p[1::2,:,1,0:5],axis=2)"
   ]
  },
  {
   "cell_type": "code",
   "execution_count": 7,
   "id": "a482a6e7",
   "metadata": {},
   "outputs": [
    {
     "data": {
      "text/plain": [
       "array([[24, 24, 24, 31, 20],\n",
       "       [29, 29, 24, 25, 28],\n",
       "       [30, 27, 28, 21, 27],\n",
       "       [29, 26, 30, 26, 22]])"
      ]
     },
     "execution_count": 7,
     "metadata": {},
     "output_type": "execute_result"
    }
   ],
   "source": [
    "np.amax(p[1::2,:,1,0:5],axis=0)"
   ]
  },
  {
   "cell_type": "code",
   "execution_count": 8,
   "id": "ad2d4592",
   "metadata": {},
   "outputs": [
    {
     "data": {
      "text/plain": [
       "array([[30, 29, 30, 31, 28],\n",
       "       [21, 22, 22, 21, 21]])"
      ]
     },
     "execution_count": 8,
     "metadata": {},
     "output_type": "execute_result"
    }
   ],
   "source": [
    "np.amax(p[1::2,:,1,0:5],axis=1)"
   ]
  },
  {
   "cell_type": "code",
   "execution_count": 9,
   "id": "37dd7b4a",
   "metadata": {},
   "outputs": [],
   "source": [
    "s=np.where(p< 0, 0, p)"
   ]
  },
  {
   "cell_type": "code",
   "execution_count": 10,
   "id": "53d9122c",
   "metadata": {},
   "outputs": [
    {
     "data": {
      "text/plain": [
       "array([[[[11,  8,  6, 12,  7,  9,  8],\n",
       "         [28, 32, 24, 25, 28, 27, 32]],\n",
       "\n",
       "        [[ 7, 10, 10,  0,  8, 14,  9],\n",
       "         [26, 31, 25, 21, 28, 30, 22]],\n",
       "\n",
       "        [[ 9,  6, 13,  8,  6,  6, 13],\n",
       "         [24, 30, 24, 27, 25, 20, 25]],\n",
       "\n",
       "        [[13, 13, 13,  6, 15,  7,  9],\n",
       "         [29, 20, 24, 23, 21, 24, 29]]],\n",
       "\n",
       "\n",
       "       [[[11,  8, 11,  9, 13, 11,  9],\n",
       "         [24, 24, 24, 31, 20, 23, 32]],\n",
       "\n",
       "        [[13,  7, 10, 15, 13,  7, 10],\n",
       "         [29, 29, 24, 25, 28, 32, 28]],\n",
       "\n",
       "        [[ 8, 13,  8,  8, 15, 12, 11],\n",
       "         [30, 27, 28, 21, 27, 31, 25]],\n",
       "\n",
       "        [[13, 12, 15, 13, 11,  7,  6],\n",
       "         [29, 26, 30, 26, 22, 32, 27]]],\n",
       "\n",
       "\n",
       "       [[[ 5,  3,  4,  5,  3,  3, 21],\n",
       "         [19, 18, 18, 18, 22,  2,  5]],\n",
       "\n",
       "        [[ 5,  6,  6,  4,  7,  7, 21],\n",
       "         [20, 18, 19, 20, 20,  7,  2]],\n",
       "\n",
       "        [[ 7,  6,  5,  7,  7,  5, 19],\n",
       "         [20, 20, 22, 18, 20,  4,  3]],\n",
       "\n",
       "        [[ 8,  7,  6,  2,  6,  4, 18],\n",
       "         [20, 19, 22, 18, 19,  4,  7]]],\n",
       "\n",
       "\n",
       "       [[[ 7, 10,  0, 11, 11, 11, 22],\n",
       "         [21, 20, 19, 18, 20, 71, 12]],\n",
       "\n",
       "        [[10,  7,  8,  7, 10,  7, 19],\n",
       "         [21, 22, 21, 18, 20,  7,  8]],\n",
       "\n",
       "        [[10, 10, 12,  7,  7,  7, 21],\n",
       "         [20, 22, 22, 21, 21, 12, 12]],\n",
       "\n",
       "        [[ 7,  7,  8, 10, 11, 12, 18],\n",
       "         [21, 22, 21, 18, 18, 10,  7]]]])"
      ]
     },
     "execution_count": 10,
     "metadata": {},
     "output_type": "execute_result"
    }
   ],
   "source": [
    "s"
   ]
  },
  {
   "cell_type": "code",
   "execution_count": 11,
   "id": "b239ae07",
   "metadata": {},
   "outputs": [
    {
     "name": "stdout",
     "output_type": "stream",
     "text": [
      "[  6   7   7 -13   6   6   6   6   7]\n"
     ]
    }
   ],
   "source": [
    "#6. Print all the days along with the week number in November when the minimum temperature was less than 8 degrees.\n",
    "c=p[0,:,0,:]\n",
    "d=np.where(c<8)\n",
    "print(c[d])"
   ]
  },
  {
   "cell_type": "code",
   "execution_count": 17,
   "id": "886f65cd",
   "metadata": {},
   "outputs": [
    {
     "name": "stdout",
     "output_type": "stream",
     "text": [
      "weeks where days have temp greater than 20 in dec and jan\n",
      "\n",
      "Dec Jan\n",
      "0    0\n",
      "0    0\n",
      "0    0\n",
      "0    0\n",
      "0    0\n",
      "0    0\n",
      "0    1\n",
      "0    1\n",
      "0    1\n",
      "0    1\n",
      "0    1\n",
      "0    1\n",
      "0    1\n",
      "0    2\n",
      "0    2\n",
      "0    2\n",
      "0    2\n",
      "0    2\n",
      "0    2\n",
      "0    2\n",
      "0    3\n",
      "0    3\n",
      "0    3\n",
      "0    3\n",
      "0    3\n",
      "0    3\n",
      "0    3\n",
      "1    0\n",
      "1    2\n",
      "1    3\n"
     ]
    }
   ],
   "source": [
    "#7. Print all the weeks in Dec and Jan where the maximum temperature has crossed a threshold of 20 degrees.\n",
    "r=p[1:3,:,1,:]\n",
    "r[0,0,0]\n",
    "x=np.where(r>20)\n",
    "print(\"weeks where days have temp greater than 20 in dec and jan\")\n",
    "print()\n",
    "print('Dec Jan')\n",
    "for i in range(len(x[0])):\n",
    "    print(x[0][i],\"  \",x[1][i])"
   ]
  },
  {
   "cell_type": "code",
   "execution_count": 18,
   "id": "d045c589",
   "metadata": {},
   "outputs": [
    {
     "data": {
      "text/plain": [
       "15.504464285714286"
      ]
     },
     "execution_count": 18,
     "metadata": {},
     "output_type": "execute_result"
    }
   ],
   "source": [
    "#8. Check if there are any absurd values present in the dataset(like some temp which should not be present in the data)\n",
    "np.mean(p)"
   ]
  },
  {
   "cell_type": "code",
   "execution_count": 19,
   "id": "6468c07c",
   "metadata": {},
   "outputs": [
    {
     "data": {
      "text/plain": [
       "array([[[ 8.71428571, 28.        ],\n",
       "        [ 6.42857143, 26.14285714],\n",
       "        [ 8.71428571, 25.        ],\n",
       "        [10.85714286, 24.28571429]],\n",
       "\n",
       "       [[10.28571429, 25.42857143],\n",
       "        [10.71428571, 27.85714286],\n",
       "        [10.71428571, 27.        ],\n",
       "        [11.        , 27.42857143]],\n",
       "\n",
       "       [[ 6.28571429, 14.57142857],\n",
       "        [ 8.        , 15.14285714],\n",
       "        [ 8.        , 15.28571429],\n",
       "        [ 7.28571429, 15.57142857]],\n",
       "\n",
       "       [[ 8.85714286, 25.85714286],\n",
       "        [ 9.71428571, 16.71428571],\n",
       "        [10.57142857, 18.57142857],\n",
       "        [10.42857143, 16.71428571]]])"
      ]
     },
     "execution_count": 19,
     "metadata": {},
     "output_type": "execute_result"
    }
   ],
   "source": [
    "#along all axis\n",
    "np.mean(p,axis=3)"
   ]
  },
  {
   "cell_type": "code",
   "execution_count": 20,
   "id": "513dfd7b",
   "metadata": {},
   "outputs": [
    {
     "data": {
      "text/plain": [
       "17.267857142857142"
      ]
     },
     "execution_count": 20,
     "metadata": {},
     "output_type": "execute_result"
    }
   ],
   "source": [
    "np.mean(p[0])"
   ]
  },
  {
   "cell_type": "code",
   "execution_count": 21,
   "id": "413d45d3",
   "metadata": {},
   "outputs": [],
   "source": [
    "#9. What strategy would you use to handle such data points?\n",
    "iqr=np.percentile(p,75)-np.percentile(p,25)#iqr find karne k liye first half sub second half hoga"
   ]
  },
  {
   "cell_type": "code",
   "execution_count": 22,
   "id": "2b852b40",
   "metadata": {},
   "outputs": [
    {
     "data": {
      "text/plain": [
       "14.25"
      ]
     },
     "execution_count": 22,
     "metadata": {},
     "output_type": "execute_result"
    }
   ],
   "source": [
    "iqr"
   ]
  },
  {
   "cell_type": "code",
   "execution_count": 23,
   "id": "de2e27df",
   "metadata": {},
   "outputs": [],
   "source": [
    "c=np.mean(p[0])-1.5*iqr\n",
    "d=np.mean(p[0])+1.5*iqr"
   ]
  },
  {
   "cell_type": "code",
   "execution_count": 24,
   "id": "c856e817",
   "metadata": {},
   "outputs": [
    {
     "data": {
      "text/plain": [
       "-4.107142857142858"
      ]
     },
     "execution_count": 24,
     "metadata": {},
     "output_type": "execute_result"
    }
   ],
   "source": [
    "c"
   ]
  },
  {
   "cell_type": "code",
   "execution_count": 25,
   "id": "e98a8b51",
   "metadata": {},
   "outputs": [
    {
     "data": {
      "text/plain": [
       "38.64285714285714"
      ]
     },
     "execution_count": 25,
     "metadata": {},
     "output_type": "execute_result"
    }
   ],
   "source": [
    "d"
   ]
  },
  {
   "cell_type": "code",
   "execution_count": 26,
   "id": "ff73d38d",
   "metadata": {},
   "outputs": [
    {
     "data": {
      "text/plain": [
       "(array([1], dtype=int64), array([0], dtype=int64), array([3], dtype=int64))"
      ]
     },
     "execution_count": 26,
     "metadata": {},
     "output_type": "execute_result"
    }
   ],
   "source": [
    "np.where(p[0]<c)"
   ]
  },
  {
   "cell_type": "code",
   "execution_count": 27,
   "id": "36f99dae",
   "metadata": {},
   "outputs": [
    {
     "data": {
      "text/plain": [
       "(array([], dtype=int64),\n",
       " array([], dtype=int64),\n",
       " array([], dtype=int64),\n",
       " array([], dtype=int64),\n",
       " array([], dtype=int64))"
      ]
     },
     "execution_count": 27,
     "metadata": {},
     "output_type": "execute_result"
    }
   ],
   "source": [
    "#10. Find and print the indexes of all the outlier(unusual) values present in the above dataset\n",
    "np.where(p[0>d])"
   ]
  },
  {
   "cell_type": "code",
   "execution_count": 28,
   "id": "ad7ee58f",
   "metadata": {},
   "outputs": [],
   "source": [
    "iqr=np.percentile(p,75)-np.percentile(p,25)\n",
    "e=np.mean(p[1])-1.5*iqr\n",
    "f=np.mean(p[1])+1.5*iqr"
   ]
  },
  {
   "cell_type": "code",
   "execution_count": 29,
   "id": "b734ffe3",
   "metadata": {},
   "outputs": [
    {
     "data": {
      "text/plain": [
       "-2.571428571428573"
      ]
     },
     "execution_count": 29,
     "metadata": {},
     "output_type": "execute_result"
    }
   ],
   "source": [
    "e"
   ]
  },
  {
   "cell_type": "code",
   "execution_count": 30,
   "id": "5603848b",
   "metadata": {},
   "outputs": [
    {
     "data": {
      "text/plain": [
       "40.17857142857143"
      ]
     },
     "execution_count": 30,
     "metadata": {},
     "output_type": "execute_result"
    }
   ],
   "source": [
    "f"
   ]
  },
  {
   "cell_type": "code",
   "execution_count": 31,
   "id": "0c59c1b6",
   "metadata": {},
   "outputs": [],
   "source": [
    "g=np.mean(p[2])-1.5*iqr\n",
    "h=np.mean(p[2])+1.5*iqr"
   ]
  },
  {
   "cell_type": "code",
   "execution_count": 32,
   "id": "a302b1f7",
   "metadata": {},
   "outputs": [
    {
     "data": {
      "text/plain": [
       "-10.107142857142858"
      ]
     },
     "execution_count": 32,
     "metadata": {},
     "output_type": "execute_result"
    }
   ],
   "source": [
    "g"
   ]
  },
  {
   "cell_type": "code",
   "execution_count": 33,
   "id": "bf83a1ab",
   "metadata": {},
   "outputs": [
    {
     "data": {
      "text/plain": [
       "32.64285714285714"
      ]
     },
     "execution_count": 33,
     "metadata": {},
     "output_type": "execute_result"
    }
   ],
   "source": [
    "h"
   ]
  },
  {
   "cell_type": "code",
   "execution_count": 34,
   "id": "12da9651",
   "metadata": {},
   "outputs": [],
   "source": [
    "i=np.mean(p[3])-1.5*iqr\n",
    "j=np.mean(p[3])+1.5*iqr"
   ]
  },
  {
   "cell_type": "code",
   "execution_count": 35,
   "id": "a1a96a3f",
   "metadata": {},
   "outputs": [
    {
     "data": {
      "text/plain": [
       "-6.696428571428571"
      ]
     },
     "execution_count": 35,
     "metadata": {},
     "output_type": "execute_result"
    }
   ],
   "source": [
    "i"
   ]
  },
  {
   "cell_type": "code",
   "execution_count": 36,
   "id": "7d07a30f",
   "metadata": {},
   "outputs": [
    {
     "data": {
      "text/plain": [
       "36.05357142857143"
      ]
     },
     "execution_count": 36,
     "metadata": {},
     "output_type": "execute_result"
    }
   ],
   "source": [
    "j"
   ]
  },
  {
   "cell_type": "code",
   "execution_count": 37,
   "id": "5ae94e71",
   "metadata": {},
   "outputs": [],
   "source": [
    "#11.Replace the outliers with an appropriate value.\n",
    "p[p==24]=5"
   ]
  },
  {
   "cell_type": "code",
   "execution_count": 38,
   "id": "f34222b2",
   "metadata": {},
   "outputs": [
    {
     "data": {
      "text/plain": [
       "array([[[[ 11,   8,   6,  12,   7,   9,   8],\n",
       "         [ 28,  32,   5,  25,  28,  27,  32]],\n",
       "\n",
       "        [[  7,  10,  10, -13,   8,  14,   9],\n",
       "         [ 26,  31,  25,  21,  28,  30,  22]],\n",
       "\n",
       "        [[  9,   6,  13,   8,   6,   6,  13],\n",
       "         [  5,  30,   5,  27,  25,  20,  25]],\n",
       "\n",
       "        [[ 13,  13,  13,   6,  15,   7,   9],\n",
       "         [ 29,  20,   5,  23,  21,   5,  29]]],\n",
       "\n",
       "\n",
       "       [[[ 11,   8,  11,   9,  13,  11,   9],\n",
       "         [  5,   5,   5,  31,  20,  23,  32]],\n",
       "\n",
       "        [[ 13,   7,  10,  15,  13,   7,  10],\n",
       "         [ 29,  29,   5,  25,  28,  32,  28]],\n",
       "\n",
       "        [[  8,  13,   8,   8,  15,  12,  11],\n",
       "         [ 30,  27,  28,  21,  27,  31,  25]],\n",
       "\n",
       "        [[ 13,  12,  15,  13,  11,   7,   6],\n",
       "         [ 29,  26,  30,  26,  22,  32,  27]]],\n",
       "\n",
       "\n",
       "       [[[  5,   3,   4,   5,   3,   3,  21],\n",
       "         [ 19,  18,  18,  18,  22,   2,   5]],\n",
       "\n",
       "        [[  5,   6,   6,   4,   7,   7,  21],\n",
       "         [ 20,  18,  19,  20,  20,   7,   2]],\n",
       "\n",
       "        [[  7,   6,   5,   7,   7,   5,  19],\n",
       "         [ 20,  20,  22,  18,  20,   4,   3]],\n",
       "\n",
       "        [[  8,   7,   6,   2,   6,   4,  18],\n",
       "         [ 20,  19,  22,  18,  19,   4,   7]]],\n",
       "\n",
       "\n",
       "       [[[  7,  10, -10,  11,  11,  11,  22],\n",
       "         [ 21,  20,  19,  18,  20,  71,  12]],\n",
       "\n",
       "        [[ 10,   7,   8,   7,  10,   7,  19],\n",
       "         [ 21,  22,  21,  18,  20,   7,   8]],\n",
       "\n",
       "        [[ 10,  10,  12,   7,   7,   7,  21],\n",
       "         [ 20,  22,  22,  21,  21,  12,  12]],\n",
       "\n",
       "        [[  7,   7,   8,  10,  11,  12,  18],\n",
       "         [ 21,  22,  21,  18,  18,  10,   7]]]])"
      ]
     },
     "execution_count": 38,
     "metadata": {},
     "output_type": "execute_result"
    }
   ],
   "source": [
    "p"
   ]
  },
  {
   "cell_type": "code",
   "execution_count": 39,
   "id": "90950cdb",
   "metadata": {},
   "outputs": [],
   "source": [
    "p[0][p[0]<1]=np.mean(p[0,:,0,:])\n",
    "p[0][p[0]>0]=np.mean(p[0,:,1,:])"
   ]
  },
  {
   "cell_type": "code",
   "execution_count": 40,
   "id": "01dbfeb3",
   "metadata": {},
   "outputs": [
    {
     "data": {
      "text/plain": [
       "array([[[22, 22, 22, 22, 22, 22, 22],\n",
       "        [22, 22, 22, 22, 22, 22, 22]],\n",
       "\n",
       "       [[22, 22, 22, 22, 22, 22, 22],\n",
       "        [22, 22, 22, 22, 22, 22, 22]],\n",
       "\n",
       "       [[22, 22, 22, 22, 22, 22, 22],\n",
       "        [22, 22, 22, 22, 22, 22, 22]],\n",
       "\n",
       "       [[22, 22, 22, 22, 22, 22, 22],\n",
       "        [22, 22, 22, 22, 22, 22, 22]]])"
      ]
     },
     "execution_count": 40,
     "metadata": {},
     "output_type": "execute_result"
    }
   ],
   "source": [
    "p[0]"
   ]
  },
  {
   "cell_type": "code",
   "execution_count": 41,
   "id": "6d97d234",
   "metadata": {},
   "outputs": [
    {
     "data": {
      "text/plain": [
       "16.348214285714285"
      ]
     },
     "execution_count": 41,
     "metadata": {},
     "output_type": "execute_result"
    }
   ],
   "source": [
    "#12. Find the average max temperature for the winter months in Jaipur\n",
    "p[:,:,1,:]\n",
    "q=np.average(p)\n",
    "np.amax(q)"
   ]
  },
  {
   "cell_type": "code",
   "execution_count": 42,
   "id": "f50d3ec5",
   "metadata": {},
   "outputs": [
    {
     "data": {
      "text/plain": [
       "array([[[[ 22,  22,  22,  22,  22,  22,  22],\n",
       "         [ 22,  22,  22,  22,  22,  22,  22]],\n",
       "\n",
       "        [[ 22,  22,  22,  22,  22,  22,  22],\n",
       "         [ 22,  22,  22,  22,  22,  22,  22]],\n",
       "\n",
       "        [[ 22,  22,  22,  22,  22,  22,  22],\n",
       "         [ 22,  22,  22,  22,  22,  22,  22]],\n",
       "\n",
       "        [[ 22,  22,  22,  22,  22,  22,  22],\n",
       "         [ 22,  22,  22,  22,  22,  22,  22]]],\n",
       "\n",
       "\n",
       "       [[[ 11,   8,  11,   9,  13,  11,   9],\n",
       "         [  5,   5,   5,  31,  20,  23,  32]],\n",
       "\n",
       "        [[ 13,   7,  10,  15,  13,   7,  10],\n",
       "         [ 29,  29,   5,  25,  28,  32,  28]],\n",
       "\n",
       "        [[  8,  13,   8,   8,  15,  12,  11],\n",
       "         [ 30,  27,  28,  21,  27,  31,  25]],\n",
       "\n",
       "        [[ 13,  12,  15,  13,  11,   7,   6],\n",
       "         [ 29,  26,  30,  26,  22,  32,  27]]],\n",
       "\n",
       "\n",
       "       [[[  5,   3,   4,   5,   3,   3,  21],\n",
       "         [ 19,  18,  18,  18,  22,   2,   5]],\n",
       "\n",
       "        [[  5,   6,   6,   4,   7,   7,  21],\n",
       "         [ 20,  18,  19,  20,  20,   7,   2]],\n",
       "\n",
       "        [[  7,   6,   5,   7,   7,   5,  19],\n",
       "         [ 20,  20,  22,  18,  20,   4,   3]],\n",
       "\n",
       "        [[  8,   7,   6,   2,   6,   4,  18],\n",
       "         [ 20,  19,  22,  18,  19,   4,   7]]],\n",
       "\n",
       "\n",
       "       [[[  7,  10, -10,  11,  11,  11,  22],\n",
       "         [ 21,  20,  19,  18,  20,  71,  12]],\n",
       "\n",
       "        [[ 10,   7,   8,   7,  10,   7,  19],\n",
       "         [ 21,  22,  21,  18,  20,   7,   8]],\n",
       "\n",
       "        [[ 10,  10,  12,   7,   7,   7,  21],\n",
       "         [ 20,  22,  22,  21,  21,  12,  12]],\n",
       "\n",
       "        [[  7,   7,   8,  10,  11,  12,  18],\n",
       "         [ 21,  22,  21,  18,  18,  10,   7]]]])"
      ]
     },
     "execution_count": 42,
     "metadata": {},
     "output_type": "execute_result"
    }
   ],
   "source": [
    "p"
   ]
  },
  {
   "cell_type": "code",
   "execution_count": 43,
   "id": "e3a3934d",
   "metadata": {},
   "outputs": [
    {
     "data": {
      "text/plain": [
       "16.348214285714285"
      ]
     },
     "execution_count": 43,
     "metadata": {},
     "output_type": "execute_result"
    }
   ],
   "source": [
    "q"
   ]
  },
  {
   "cell_type": "code",
   "execution_count": 44,
   "id": "3dfd0df8",
   "metadata": {},
   "outputs": [
    {
     "data": {
      "text/plain": [
       "16.348214285714285"
      ]
     },
     "execution_count": 44,
     "metadata": {},
     "output_type": "execute_result"
    }
   ],
   "source": [
    "#13. Find the weekly min avg temp for the month of Dec in Jaipur\n",
    "m=np.average(p)\n",
    "np.amin(m)"
   ]
  },
  {
   "cell_type": "code",
   "execution_count": 45,
   "id": "8e435449",
   "metadata": {},
   "outputs": [
    {
     "data": {
      "text/plain": [
       "16.348214285714285"
      ]
     },
     "execution_count": 45,
     "metadata": {},
     "output_type": "execute_result"
    }
   ],
   "source": [
    "m"
   ]
  },
  {
   "cell_type": "code",
   "execution_count": 46,
   "id": "2ad4caee",
   "metadata": {},
   "outputs": [],
   "source": [
    "#14. Find the overall avg temp for the months Dec and Jan\n",
    "n=np.average(p,1)"
   ]
  },
  {
   "cell_type": "code",
   "execution_count": 47,
   "id": "e9e48e14",
   "metadata": {},
   "outputs": [
    {
     "data": {
      "text/plain": [
       "array([[[22.  , 22.  , 22.  , 22.  , 22.  , 22.  , 22.  ],\n",
       "        [22.  , 22.  , 22.  , 22.  , 22.  , 22.  , 22.  ]],\n",
       "\n",
       "       [[11.25, 10.  , 11.  , 11.25, 13.  ,  9.25,  9.  ],\n",
       "        [23.25, 21.75, 17.  , 25.75, 24.25, 29.5 , 28.  ]],\n",
       "\n",
       "       [[ 6.25,  5.5 ,  5.25,  4.5 ,  5.75,  4.75, 19.75],\n",
       "        [19.75, 18.75, 20.25, 18.5 , 20.25,  4.25,  4.25]],\n",
       "\n",
       "       [[ 8.5 ,  8.5 ,  4.5 ,  8.75,  9.75,  9.25, 20.  ],\n",
       "        [20.75, 21.5 , 20.75, 18.75, 19.75, 25.  ,  9.75]]])"
      ]
     },
     "execution_count": 47,
     "metadata": {},
     "output_type": "execute_result"
    }
   ],
   "source": [
    "n"
   ]
  },
  {
   "cell_type": "code",
   "execution_count": 48,
   "id": "b6a78b6d",
   "metadata": {},
   "outputs": [],
   "source": [
    "o=np.average(p,2)"
   ]
  },
  {
   "cell_type": "code",
   "execution_count": 49,
   "id": "5cea833b",
   "metadata": {},
   "outputs": [
    {
     "data": {
      "text/plain": [
       "array([[[22. , 22. , 22. , 22. , 22. , 22. , 22. ],\n",
       "        [22. , 22. , 22. , 22. , 22. , 22. , 22. ],\n",
       "        [22. , 22. , 22. , 22. , 22. , 22. , 22. ],\n",
       "        [22. , 22. , 22. , 22. , 22. , 22. , 22. ]],\n",
       "\n",
       "       [[ 8. ,  6.5,  8. , 20. , 16.5, 17. , 20.5],\n",
       "        [21. , 18. ,  7.5, 20. , 20.5, 19.5, 19. ],\n",
       "        [19. , 20. , 18. , 14.5, 21. , 21.5, 18. ],\n",
       "        [21. , 19. , 22.5, 19.5, 16.5, 19.5, 16.5]],\n",
       "\n",
       "       [[12. , 10.5, 11. , 11.5, 12.5,  2.5, 13. ],\n",
       "        [12.5, 12. , 12.5, 12. , 13.5,  7. , 11.5],\n",
       "        [13.5, 13. , 13.5, 12.5, 13.5,  4.5, 11. ],\n",
       "        [14. , 13. , 14. , 10. , 12.5,  4. , 12.5]],\n",
       "\n",
       "       [[14. , 15. ,  4.5, 14.5, 15.5, 41. , 17. ],\n",
       "        [15.5, 14.5, 14.5, 12.5, 15. ,  7. , 13.5],\n",
       "        [15. , 16. , 17. , 14. , 14. ,  9.5, 16.5],\n",
       "        [14. , 14.5, 14.5, 14. , 14.5, 11. , 12.5]]])"
      ]
     },
     "execution_count": 49,
     "metadata": {},
     "output_type": "execute_result"
    }
   ],
   "source": [
    "o"
   ]
  },
  {
   "cell_type": "code",
   "execution_count": 50,
   "id": "9aa3f535",
   "metadata": {},
   "outputs": [
    {
     "data": {
      "text/plain": [
       "4.25"
      ]
     },
     "execution_count": 50,
     "metadata": {},
     "output_type": "execute_result"
    }
   ],
   "source": [
    "np.amin(n)"
   ]
  },
  {
   "cell_type": "code",
   "execution_count": 51,
   "id": "4e1ecaee",
   "metadata": {},
   "outputs": [
    {
     "data": {
      "text/plain": [
       "2.5"
      ]
     },
     "execution_count": 51,
     "metadata": {},
     "output_type": "execute_result"
    }
   ],
   "source": [
    "np.amin(o)"
   ]
  },
  {
   "cell_type": "code",
   "execution_count": 52,
   "id": "5c02f7e2",
   "metadata": {},
   "outputs": [
    {
     "data": {
      "text/plain": [
       "-10"
      ]
     },
     "execution_count": 52,
     "metadata": {},
     "output_type": "execute_result"
    }
   ],
   "source": [
    "p[1:2,:,:,:]\n",
    "np.amin(p)"
   ]
  },
  {
   "cell_type": "code",
   "execution_count": 53,
   "id": "2e9c29c6",
   "metadata": {},
   "outputs": [
    {
     "data": {
      "text/plain": [
       "71"
      ]
     },
     "execution_count": 53,
     "metadata": {},
     "output_type": "execute_result"
    }
   ],
   "source": [
    "np.amax(p)"
   ]
  },
  {
   "cell_type": "code",
   "execution_count": 54,
   "id": "5e32bc2b",
   "metadata": {},
   "outputs": [
    {
     "name": "stdout",
     "output_type": "stream",
     "text": [
      "dec   week(1)   saturday\n",
      "dec   week(2)   sunday\n",
      "dec   week(4)   thrusday\n"
     ]
    }
   ],
   "source": [
    "#15. Find the least temp experienced by the city in the month of Dec and Jan. Also print the exact date( Day/Week/Month) for the same.\n",
    "k=np.min(p[1:3,:,:,:])\n",
    "m1={0:\"nov\",1:\"dec\",2:\"jan\",3:\"feb\"}\n",
    "w1={0:\"week(1)\",1:\"week(2)\",2:\"week(3)\",3:\"week(4)\"}\n",
    "d1={0:\"monday\",1:\"tuesday\",2:\"wednesday\",3:\"thrusday\",4:\"friday\",5:\"saturday\",6:\"sunday\"}\n",
    "\n",
    "\n",
    "\n",
    "z=np.where(p[1:3,:,:,:]==k)\n",
    "z\n",
    "\n",
    "for i in range(len(z[0])):\n",
    "    print(m1[z[0][i]],\" \",w1[z[1][i]],\" \",d1[z[3][i]])"
   ]
  },
  {
   "cell_type": "code",
   "execution_count": 55,
   "id": "4ffde63d",
   "metadata": {},
   "outputs": [
    {
     "data": {
      "text/plain": [
       "array([[21, 20, 19, 18, 20, 71, 12],\n",
       "       [21, 22, 21, 18, 20,  7,  8],\n",
       "       [20, 22, 22, 21, 21, 12, 12],\n",
       "       [21, 22, 21, 18, 18, 10,  7]])"
      ]
     },
     "execution_count": 55,
     "metadata": {},
     "output_type": "execute_result"
    }
   ],
   "source": [
    "#16. Find the max temp in the month of Feb and return its date(Day/Week/Month\n",
    "p[3,:,1,:]"
   ]
  },
  {
   "cell_type": "code",
   "execution_count": 56,
   "id": "da126b76",
   "metadata": {},
   "outputs": [
    {
     "data": {
      "text/plain": [
       "71"
      ]
     },
     "execution_count": 56,
     "metadata": {},
     "output_type": "execute_result"
    }
   ],
   "source": [
    "#maximum temp of februry month\n",
    "np.amax(p)"
   ]
  },
  {
   "cell_type": "code",
   "execution_count": 57,
   "id": "8f3296f3",
   "metadata": {},
   "outputs": [],
   "source": [
    "#17. Find the days in the month of Nov where the max temp of the day dropped below the avg temp of the month. As\n",
    "d=np.average(p)"
   ]
  },
  {
   "cell_type": "code",
   "execution_count": 58,
   "id": "30071f33",
   "metadata": {},
   "outputs": [
    {
     "data": {
      "text/plain": [
       "16.348214285714285"
      ]
     },
     "execution_count": 58,
     "metadata": {},
     "output_type": "execute_result"
    }
   ],
   "source": [
    "d"
   ]
  },
  {
   "cell_type": "code",
   "execution_count": 59,
   "id": "d68e1448",
   "metadata": {},
   "outputs": [
    {
     "data": {
      "text/plain": [
       "array([[[[ 22,  11,   5,   7],\n",
       "         [ 22,  13,   5,  10],\n",
       "         [ 22,   8,   7,  10],\n",
       "         [ 22,  13,   8,   7]],\n",
       "\n",
       "        [[ 22,   5,  19,  21],\n",
       "         [ 22,  29,  20,  21],\n",
       "         [ 22,  30,  20,  20],\n",
       "         [ 22,  29,  20,  21]]],\n",
       "\n",
       "\n",
       "       [[[ 22,   8,   3,  10],\n",
       "         [ 22,   7,   6,   7],\n",
       "         [ 22,  13,   6,  10],\n",
       "         [ 22,  12,   7,   7]],\n",
       "\n",
       "        [[ 22,   5,  18,  20],\n",
       "         [ 22,  29,  18,  22],\n",
       "         [ 22,  27,  20,  22],\n",
       "         [ 22,  26,  19,  22]]],\n",
       "\n",
       "\n",
       "       [[[ 22,  11,   4, -10],\n",
       "         [ 22,  10,   6,   8],\n",
       "         [ 22,   8,   5,  12],\n",
       "         [ 22,  15,   6,   8]],\n",
       "\n",
       "        [[ 22,   5,  18,  19],\n",
       "         [ 22,   5,  19,  21],\n",
       "         [ 22,  28,  22,  22],\n",
       "         [ 22,  30,  22,  21]]],\n",
       "\n",
       "\n",
       "       [[[ 22,   9,   5,  11],\n",
       "         [ 22,  15,   4,   7],\n",
       "         [ 22,   8,   7,   7],\n",
       "         [ 22,  13,   2,  10]],\n",
       "\n",
       "        [[ 22,  31,  18,  18],\n",
       "         [ 22,  25,  20,  18],\n",
       "         [ 22,  21,  18,  21],\n",
       "         [ 22,  26,  18,  18]]],\n",
       "\n",
       "\n",
       "       [[[ 22,  13,   3,  11],\n",
       "         [ 22,  13,   7,  10],\n",
       "         [ 22,  15,   7,   7],\n",
       "         [ 22,  11,   6,  11]],\n",
       "\n",
       "        [[ 22,  20,  22,  20],\n",
       "         [ 22,  28,  20,  20],\n",
       "         [ 22,  27,  20,  21],\n",
       "         [ 22,  22,  19,  18]]],\n",
       "\n",
       "\n",
       "       [[[ 22,  11,   3,  11],\n",
       "         [ 22,   7,   7,   7],\n",
       "         [ 22,  12,   5,   7],\n",
       "         [ 22,   7,   4,  12]],\n",
       "\n",
       "        [[ 22,  23,   2,  71],\n",
       "         [ 22,  32,   7,   7],\n",
       "         [ 22,  31,   4,  12],\n",
       "         [ 22,  32,   4,  10]]],\n",
       "\n",
       "\n",
       "       [[[ 22,   9,  21,  22],\n",
       "         [ 22,  10,  21,  19],\n",
       "         [ 22,  11,  19,  21],\n",
       "         [ 22,   6,  18,  18]],\n",
       "\n",
       "        [[ 22,  32,   5,  12],\n",
       "         [ 22,  28,   2,   8],\n",
       "         [ 22,  25,   3,  12],\n",
       "         [ 22,  27,   7,   7]]]])"
      ]
     },
     "execution_count": 59,
     "metadata": {},
     "output_type": "execute_result"
    }
   ],
   "source": [
    "#18th Convert the above dataset into an array where the weeks of the same \n",
    "#month must be present in the same row, but belonging to different months\n",
    "#should come in a row either below or above the selected month\n",
    "p[:,:,:,:]\n",
    "np.transpose(p)"
   ]
  },
  {
   "cell_type": "code",
   "execution_count": 60,
   "id": "820c6284",
   "metadata": {},
   "outputs": [
    {
     "name": "stdout",
     "output_type": "stream",
     "text": [
      "Temperature in fahrenheit: [[[[  7.6   7.6   7.6   7.6   7.6   7.6   7.6]\n",
      "   [  7.6   7.6   7.6   7.6   7.6   7.6   7.6]]\n",
      "\n",
      "  [[  7.6   7.6   7.6   7.6   7.6   7.6   7.6]\n",
      "   [  7.6   7.6   7.6   7.6   7.6   7.6   7.6]]\n",
      "\n",
      "  [[  7.6   7.6   7.6   7.6   7.6   7.6   7.6]\n",
      "   [  7.6   7.6   7.6   7.6   7.6   7.6   7.6]]\n",
      "\n",
      "  [[  7.6   7.6   7.6   7.6   7.6   7.6   7.6]\n",
      "   [  7.6   7.6   7.6   7.6   7.6   7.6   7.6]]]\n",
      "\n",
      "\n",
      " [[[-12.2 -17.6 -12.2 -15.8  -8.6 -12.2 -15.8]\n",
      "   [-23.  -23.  -23.   23.8   4.    9.4  25.6]]\n",
      "\n",
      "  [[ -8.6 -19.4 -14.   -5.   -8.6 -19.4 -14. ]\n",
      "   [ 20.2  20.2 -23.   13.   18.4  25.6  18.4]]\n",
      "\n",
      "  [[-17.6  -8.6 -17.6 -17.6  -5.  -10.4 -12.2]\n",
      "   [ 22.   16.6  18.4   5.8  16.6  23.8  13. ]]\n",
      "\n",
      "  [[ -8.6 -10.4  -5.   -8.6 -12.2 -19.4 -21.2]\n",
      "   [ 20.2  14.8  22.   14.8   7.6  25.6  16.6]]]\n",
      "\n",
      "\n",
      " [[[-23.  -26.6 -24.8 -23.  -26.6 -26.6   5.8]\n",
      "   [  2.2   0.4   0.4   0.4   7.6 -28.4 -23. ]]\n",
      "\n",
      "  [[-23.  -21.2 -21.2 -24.8 -19.4 -19.4   5.8]\n",
      "   [  4.    0.4   2.2   4.    4.  -19.4 -28.4]]\n",
      "\n",
      "  [[-19.4 -21.2 -23.  -19.4 -19.4 -23.    2.2]\n",
      "   [  4.    4.    7.6   0.4   4.  -24.8 -26.6]]\n",
      "\n",
      "  [[-17.6 -19.4 -21.2 -28.4 -21.2 -24.8   0.4]\n",
      "   [  4.    2.2   7.6   0.4   2.2 -24.8 -19.4]]]\n",
      "\n",
      "\n",
      " [[[-19.4 -14.  -50.  -12.2 -12.2 -12.2   7.6]\n",
      "   [  5.8   4.    2.2   0.4   4.   95.8 -10.4]]\n",
      "\n",
      "  [[-14.  -19.4 -17.6 -19.4 -14.  -19.4   2.2]\n",
      "   [  5.8   7.6   5.8   0.4   4.  -19.4 -17.6]]\n",
      "\n",
      "  [[-14.  -14.  -10.4 -19.4 -19.4 -19.4   5.8]\n",
      "   [  4.    7.6   7.6   5.8   5.8 -10.4 -10.4]]\n",
      "\n",
      "  [[-19.4 -19.4 -17.6 -14.  -12.2 -10.4   0.4]\n",
      "   [  5.8   7.6   5.8   0.4   0.4 -14.  -19.4]]]]\n"
     ]
    }
   ],
   "source": [
    "#19.The above data is appropriate for an audience who follow the metric\n",
    "#system of measurement. Create an array that holds the same data but\n",
    "#presented in Fahrenheit\n",
    "celcius=p\n",
    "fahrenheit=(celcius*1.8)-32\n",
    "print(\"Temperature in fahrenheit:\",fahrenheit)"
   ]
  },
  {
   "cell_type": "code",
   "execution_count": 61,
   "id": "7f3b5001",
   "metadata": {},
   "outputs": [
    {
     "name": "stdout",
     "output_type": "stream",
     "text": [
      "13.785714285714286\n",
      "17.928571428571427\n",
      "18.857142857142858\n",
      "19.214285714285715\n"
     ]
    }
   ],
   "source": [
    "#20. Sort the above data in descending order on the basis of weekly average\n",
    "#for the month of Dec.\n",
    "a=np.average(p[1,0])\n",
    "b=np.average(p[1,1]) \n",
    "c=np.average(p[1,2])\n",
    "d=np.average(p[1,3]) \n",
    "print(a)\n",
    "print(b)\n",
    "print(c)\n",
    "print(d)"
   ]
  },
  {
   "cell_type": "code",
   "execution_count": 62,
   "id": "b7d6e60d",
   "metadata": {},
   "outputs": [
    {
     "data": {
      "text/plain": [
       "array([13.78571429, 17.92857143, 18.85714286, 19.21428571])"
      ]
     },
     "execution_count": 62,
     "metadata": {},
     "output_type": "execute_result"
    }
   ],
   "source": [
    "u=np.array([a,b,c,d])\n",
    "u"
   ]
  },
  {
   "cell_type": "code",
   "execution_count": 63,
   "id": "f4b7ab41",
   "metadata": {},
   "outputs": [
    {
     "data": {
      "text/plain": [
       "array([19.21428571, 18.85714286, 17.92857143, 13.78571429])"
      ]
     },
     "execution_count": 63,
     "metadata": {},
     "output_type": "execute_result"
    }
   ],
   "source": [
    "np.sort(u)[::-1]"
   ]
  },
  {
   "cell_type": "code",
   "execution_count": 64,
   "id": "4ccd630a",
   "metadata": {},
   "outputs": [
    {
     "name": "stdout",
     "output_type": "stream",
     "text": [
      "22.0\n",
      "15.708333333333334\n",
      "12.625\n",
      "14.083333333333334\n"
     ]
    }
   ],
   "source": [
    "#21. Sort the temp of the first three days of each month in descending order on the basis of overall average for the whole winter.\n",
    "a=np.average(p[0,:,:,0:3])\n",
    "b=np.average(p[1,:,:,0:3])\n",
    "c=np.average(p[2,:,:,0:3])\n",
    "d=np.average(p[3,:,:,0:3])\n",
    "print(a)\n",
    "print(b)\n",
    "print(c)\n",
    "print(d)"
   ]
  },
  {
   "cell_type": "code",
   "execution_count": 65,
   "id": "b3198794",
   "metadata": {},
   "outputs": [
    {
     "data": {
      "text/plain": [
       "16.348214285714285"
      ]
     },
     "execution_count": 65,
     "metadata": {},
     "output_type": "execute_result"
    }
   ],
   "source": [
    "a=np.average(p[:,:,0:3])\n",
    "a"
   ]
  },
  {
   "cell_type": "code",
   "execution_count": 66,
   "id": "1c8dbe7e",
   "metadata": {},
   "outputs": [
    {
     "data": {
      "text/plain": [
       "array([16.34821429, 15.70833333, 12.625     , 14.08333333])"
      ]
     },
     "execution_count": 66,
     "metadata": {},
     "output_type": "execute_result"
    }
   ],
   "source": [
    "x=np.array([a,b,c,d])\n",
    "x"
   ]
  },
  {
   "cell_type": "code",
   "execution_count": 67,
   "id": "8ff79591",
   "metadata": {},
   "outputs": [
    {
     "data": {
      "text/plain": [
       "array([16.34821429, 15.70833333, 14.08333333, 12.625     ])"
      ]
     },
     "execution_count": 67,
     "metadata": {},
     "output_type": "execute_result"
    }
   ],
   "source": [
    "np.sort(x)[::-1]"
   ]
  },
  {
   "cell_type": "code",
   "execution_count": 68,
   "id": "27918d6f",
   "metadata": {},
   "outputs": [
    {
     "name": "stdout",
     "output_type": "stream",
     "text": [
      "[[[  0   0   0   0   0   0   0]\n",
      "  [  0   0   0   0   0   0   0]\n",
      "  [  0   0   0   0   0   0   0]\n",
      "  [  0   0   0   0   0   0   0]]\n",
      "\n",
      " [[ -6  -3  -6  22   7  12  23]\n",
      "  [ 16  22  -5  10  15  25  18]\n",
      "  [ 22  14  20  13  12  19  14]\n",
      "  [ 16  14  15  13  11  25  21]]\n",
      "\n",
      " [[ 14  15  14  13  19  -1 -16]\n",
      "  [ 15  12  13  16  13   0 -19]\n",
      "  [ 13  14  17  11  13  -1 -16]\n",
      "  [ 12  12  16  16  13   0 -11]]\n",
      "\n",
      " [[ 14  10  29   7   9  60 -10]\n",
      "  [ 11  15  13  11  10   0 -11]\n",
      "  [ 10  12  10  14  14   5  -9]\n",
      "  [ 14  15  13   8   7  -2 -11]]]\n"
     ]
    }
   ],
   "source": [
    "#22. Create an array that stores the difference between the min and max temp for each day in all the winter months.x=p[:,:,0,:]\n",
    "y=p[:,:,1,:]\n",
    "dif=y-x\n",
    "print(dif)"
   ]
  },
  {
   "cell_type": "code",
   "execution_count": 69,
   "id": "f1272ece",
   "metadata": {},
   "outputs": [
    {
     "name": "stdout",
     "output_type": "stream",
     "text": [
      "[[[  0   0   0   0   0   0]\n",
      "  [  0   0   0   0   0   0]\n",
      "  [  0   0   0   0   0   0]\n",
      "  [  0   0   0   0   0   0]]\n",
      "\n",
      " [[  0   0  26 -11   3   9]\n",
      "  [  0 -24  20   3   4  -4]\n",
      "  [ -3   1  -7   6   4  -6]\n",
      "  [ -3   4  -4  -4  10  -5]]\n",
      "\n",
      " [[ -1   0   0   4 -20   3]\n",
      "  [ -2   1   1   0 -13  -5]\n",
      "  [  0   2  -4   2 -16  -1]\n",
      "  [ -1   3  -4   1 -15   3]]\n",
      "\n",
      " [[ -1  -1  -1   2  51 -59]\n",
      "  [  1  -1  -3   2 -13   1]\n",
      "  [  2   0  -1   0  -9   0]\n",
      "  [  1  -1  -3   0  -8  -3]]]\n"
     ]
    }
   ],
   "source": [
    "#23. Find and store the difference between the max temp of two consecutive\n",
    "#days for each month of winter season.\n",
    "k=p[:,:,1,:]\n",
    "arr=np.diff(k,axis=2)\n",
    "print(arr)"
   ]
  },
  {
   "cell_type": "code",
   "execution_count": 70,
   "id": "b451e010",
   "metadata": {},
   "outputs": [
    {
     "name": "stdout",
     "output_type": "stream",
     "text": [
      "[[[  0   0   0   0   0   0]\n",
      "  [  0   0   0   0   0   0]\n",
      "  [  0   0   0   0   0   0]\n",
      "  [  0   0   0   0   0   0]]\n",
      "\n",
      " [[  0   0  26 -11   3   9]\n",
      "  [  0 -24  20   3   4  -4]\n",
      "  [ -3   1  -7   6   4  -6]\n",
      "  [ -3   4  -4  -4  10  -5]]\n",
      "\n",
      " [[ -1   0   0   4 -20   3]\n",
      "  [ -2   1   1   0 -13  -5]\n",
      "  [  0   2  -4   2 -16  -1]\n",
      "  [ -1   3  -4   1 -15   3]]\n",
      "\n",
      " [[ -1  -1  -1   2  51 -59]\n",
      "  [  1  -1  -3   2 -13   1]\n",
      "  [  2   0  -1   0  -9   0]\n",
      "  [  1  -1  -3   0  -8  -3]]]\n"
     ]
    }
   ],
   "source": [
    "#24. Find and store the difference between the minimum temp of two\n",
    "#consecutive days for each month of the winter season.\n",
    "o=p[:,:,0,:]\n",
    "arr=np.diff(k,axis=2)\n",
    "print(arr)"
   ]
  },
  {
   "cell_type": "code",
   "execution_count": 71,
   "id": "3bfc34f4",
   "metadata": {},
   "outputs": [
    {
     "data": {
      "text/plain": [
       "array([ 22,  22,  22,  22,  22,  22,  22,  22,  22,  22,  22,  22,  22,\n",
       "        22,  22,  22,  22,  22,  22,  22,  22,  22,  22,  22,  22,  22,\n",
       "        22,  22,  11,   8,  11,   9,  13,  11,   9,  13,   7,  10,  15,\n",
       "        13,   7,  10,   8,  13,   8,   8,  15,  12,  11,  13,  12,  15,\n",
       "        13,  11,   7,   6,   5,   3,   4,   5,   3,   3,  21,   5,   6,\n",
       "         6,   4,   7,   7,  21,   7,   6,   5,   7,   7,   5,  19,   8,\n",
       "         7,   6,   2,   6,   4,  18,   7,  10, -10,  11,  11,  11,  22,\n",
       "        10,   7,   8,   7,  10,   7,  19,  10,  10,  12,   7,   7,   7,\n",
       "        21,   7,   7,   8,  10,  11,  12,  18,  22,  22,  22,  22,  22,\n",
       "        22,  22,  22,  22,  22,  22,  22,  22,  22,  22,  22,  22,  22,\n",
       "        22,  22,  22,  22,  22,  22,  22,  22,  22,  22,   5,   5,   5,\n",
       "        31,  20,  23,  32,  29,  29,   5,  25,  28,  32,  28,  30,  27,\n",
       "        28,  21,  27,  31,  25,  29,  26,  30,  26,  22,  32,  27,  19,\n",
       "        18,  18,  18,  22,   2,   5,  20,  18,  19,  20,  20,   7,   2,\n",
       "        20,  20,  22,  18,  20,   4,   3,  20,  19,  22,  18,  19,   4,\n",
       "         7,  21,  20,  19,  18,  20,  71,  12,  21,  22,  21,  18,  20,\n",
       "         7,   8,  20,  22,  22,  21,  21,  12,  12,  21,  22,  21,  18,\n",
       "        18,  10,   7])"
      ]
     },
     "execution_count": 71,
     "metadata": {},
     "output_type": "execute_result"
    }
   ],
   "source": [
    "#25. Create an array by combining the data present in arrays created in q.23\n",
    "#and q.24, to store the difference between the min and max temp of each\n",
    "#day of all the months for the whole winter season, in a single array.\n",
    "add_array=np.concatenate([o,k])\n",
    "add_array.flatten()"
   ]
  }
 ],
 "metadata": {
  "kernelspec": {
   "display_name": "Python 3 (ipykernel)",
   "language": "python",
   "name": "python3"
  },
  "language_info": {
   "codemirror_mode": {
    "name": "ipython",
    "version": 3
   },
   "file_extension": ".py",
   "mimetype": "text/x-python",
   "name": "python",
   "nbconvert_exporter": "python",
   "pygments_lexer": "ipython3",
   "version": "3.9.8"
  }
 },
 "nbformat": 4,
 "nbformat_minor": 5
}
